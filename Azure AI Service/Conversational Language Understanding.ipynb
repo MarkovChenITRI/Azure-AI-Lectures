{
 "cells": [
  {
   "cell_type": "code",
   "execution_count": null,
   "id": "1c32a641-d159-4dc1-a010-7204e8cf2a81",
   "metadata": {},
   "outputs": [],
   "source": [
    "from azure.core.credentials import AzureKeyCredential\n",
    "from azure.ai.language.conversations import ConversationAnalysisClient\n",
    "\n",
    "endpoint = \"https://<my-custom-subdomain>.cognitiveservices.azure.com/\"\n",
    "credential = AzureKeyCredential(\"<api-key>\")\n",
    "client = ConversationAnalysisClient(endpoint, credential)"
   ]
  }
 ],
 "metadata": {
  "kernelspec": {
   "display_name": "Python 3 (ipykernel)",
   "language": "python",
   "name": "python3"
  },
  "language_info": {
   "codemirror_mode": {
    "name": "ipython",
    "version": 3
   },
   "file_extension": ".py",
   "mimetype": "text/x-python",
   "name": "python",
   "nbconvert_exporter": "python",
   "pygments_lexer": "ipython3",
   "version": "3.12.7"
  }
 },
 "nbformat": 4,
 "nbformat_minor": 5
}
